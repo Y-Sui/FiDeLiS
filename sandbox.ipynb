{
 "cells": [
  {
   "cell_type": "code",
   "execution_count": 137,
   "metadata": {},
   "outputs": [],
   "source": [
    "import sys\n",
    "import os\n",
    "import argparse\n",
    "import os\n",
    "import json\n",
    "from datasets import load_dataset\n",
    "import multiprocessing as mp\n",
    "from tqdm import tqdm\n",
    "from functools import partial\n",
    "from openai import OpenAI\n",
    "import networkx as nx\n",
    "import re\n",
    "\n",
    "\n",
    "input_file = os.path.join(\"rmanluo\", \"RoG-webqsp\")\n",
    "output_dir = os.path.join(\"datasets/AlignData\", \"RoG-webqsp\")\n",
    "\n",
    "# print(\"Save results to: \", output_dir)\n",
    "if os.path.exists(output_dir) == False:\n",
    "    os.makedirs(output_dir)\n",
    "\n",
    "# Load dataset, select first 10 examples\n",
    "dataset = load_dataset(input_file, split=\"train\").select(range(10))"
   ]
  },
  {
   "cell_type": "code",
   "execution_count": 139,
   "metadata": {},
   "outputs": [],
   "source": [
    "def get_entity_edges_with_neighbors(entity: str, graph: nx.Graph) -> list:\n",
    "    '''\n",
    "    given an entity, find all edges and neighbors\n",
    "    '''\n",
    "    neighbors = []\n",
    "    edges = []\n",
    "\n",
    "    if graph.has_node(entity):\n",
    "        for neighbor in graph.neighbors(entity):\n",
    "            neighbors.append(neighbor)\n",
    "            edges.append(graph[entity][neighbor]['relation'])\n",
    "\n",
    "    return edges, neighbors"
   ]
  },
  {
   "cell_type": "code",
   "execution_count": 140,
   "metadata": {},
   "outputs": [],
   "source": [
    "def query_api(prompt):\n",
    "    client = OpenAI(api_key=\"sk-xxx\")\n",
    "    response = (\n",
    "        client.chat.completions.create(\n",
    "            model=\"gpt-3.5-turbo-0125\",\n",
    "            messages=[{\"role\": \"user\", \"content\": prompt}],\n",
    "            temperature=0,\n",
    "            # max_tokens=500,\n",
    "        )\n",
    "        .choices[0]\n",
    "        .message.content\n",
    "    )\n",
    "    # print(\"PROMPT: \", prompt)\n",
    "    # print(\"=\" * 50)\n",
    "    # print(\"RECEIVED RESPONSE: \", response)\n",
    "    # outputs_file = open(fpath, \"w\")\n",
    "    # outputs_file.write(json.dumps({\n",
    "    #     'prompt': prompt,\n",
    "    #     'response': response\n",
    "    # }))\n",
    "    return {\"prompt\": prompt, \"response\": response}"
   ]
  },
  {
   "cell_type": "code",
   "execution_count": 141,
   "metadata": {},
   "outputs": [],
   "source": [
    "def process_str(s):\n",
    "    processed = []\n",
    "\n",
    "    for item in s:\n",
    "        parts = item.split(\" -> \")\n",
    "        for part in parts:\n",
    "            if not processed or (processed and processed[-1] != part):\n",
    "                processed.append(part)\n",
    "\n",
    "    return ' -> '.join(processed)"
   ]
  },
  {
   "cell_type": "code",
   "execution_count": 142,
   "metadata": {},
   "outputs": [],
   "source": [
    "def build_graph(graph: list) -> nx.Graph:\n",
    "    G = nx.Graph()\n",
    "    for triplet in graph:\n",
    "        h, r, t = triplet\n",
    "        G.add_edge(h, t, relation=r.strip())\n",
    "    return G"
   ]
  },
  {
   "cell_type": "code",
   "execution_count": 144,
   "metadata": {},
   "outputs": [
    {
     "name": "stderr",
     "output_type": "stream",
     "text": [
      " 30%|███       | 3/10 [00:21<00:45,  6.52s/it]"
     ]
    },
    {
     "name": "stdout",
     "output_type": "stream",
     "text": [
      "Error code: 400 - {'error': {'message': \"This model's maximum context length is 16385 tokens. However, your messages resulted in 28012 tokens. Please reduce the length of the messages.\", 'type': 'invalid_request_error', 'param': 'messages', 'code': 'context_length_exceeded'}}\n",
      "Failed to get response for query: what country is the grand bahama island in\n"
     ]
    },
    {
     "name": "stderr",
     "output_type": "stream",
     "text": [
      " 40%|████      | 4/10 [00:22<00:26,  4.40s/it]"
     ]
    },
    {
     "name": "stdout",
     "output_type": "stream",
     "text": [
      "Error code: 400 - {'error': {'message': \"This model's maximum context length is 16385 tokens. However, your messages resulted in 28555 tokens. Please reduce the length of the messages.\", 'type': 'invalid_request_error', 'param': 'messages', 'code': 'context_length_exceeded'}}\n",
      "Failed to get response for query: what kind of money to take to bahamas\n"
     ]
    },
    {
     "name": "stderr",
     "output_type": "stream",
     "text": [
      "100%|██████████| 10/10 [01:12<00:00,  7.29s/it]"
     ]
    },
    {
     "name": "stdout",
     "output_type": "stream",
     "text": [
      "Error code: 400 - {'error': {'message': \"This model's maximum context length is 16385 tokens. However, your messages resulted in 49249 tokens. Please reduce the length of the messages.\", 'type': 'invalid_request_error', 'param': 'messages', 'code': 'context_length_exceeded'}}\n",
      "Failed to get response for query: which countries border the us\n"
     ]
    },
    {
     "name": "stderr",
     "output_type": "stream",
     "text": [
      "\n"
     ]
    }
   ],
   "source": [
    "for data in tqdm(dataset):\n",
    "    id = data['id']\n",
    "    question = data['question']\n",
    "    graph = build_graph(data['graph'])\n",
    "    starting_entity = data['q_entity'][0]\n",
    "\n",
    "    # start MCQ reasoning\n",
    "    reasoning_path = []\n",
    "    flag = True\n",
    "    while flag == True and len(reasoning_path) < 10:\n",
    "        path_candidates, neighbors = get_entity_edges_with_neighbors(\n",
    "            starting_entity, graph\n",
    "        )\n",
    "\n",
    "        options = []\n",
    "        options.append(\n",
    "            \"0: EOS -> The final entity of current reasoning steps can directly answers the query. End of Selection.\"\n",
    "        )\n",
    "        i = 1\n",
    "        for p, n in zip(path_candidates, neighbors):\n",
    "            options.append(f\"{i}: {starting_entity} -> {p} -> {n}\")\n",
    "            i += 1\n",
    "\n",
    "        options_str = \"\\n\".join(options)\n",
    "\n",
    "        if len(reasoning_path) > 0:\n",
    "            reasoning_path_str = process_str(reasoning_path)\n",
    "            prompt = f\"\"\"\n",
    "                User query: {question} \\n\n",
    "                To proceed, you must identify the most relevant reasoning path based on the current reasoning steps: {reasoning_path_str} \\n\n",
    "                Please review the following options and select the most appropriate reasoning path for the query, also including the corresponding entity where applicable: \\n\n",
    "                {options_str} \\n\n",
    "                After evaluating the options, please provide only the index of the selected reasoning path. If the final entity from the current reasoning steps directly answers the query, respond with option 0: EOS, End of Selection.\n",
    "            \"\"\"\n",
    "        else:\n",
    "            prompt = f\"\"\"\n",
    "                User query: {question} \\n\n",
    "                To proceed, the starting entity is {starting_entity}. \\n\n",
    "                Please review the following options and select the most appropriate reasoning path for the query, also including the corresponding entity where applicable: \\n\n",
    "                {options_str} \\n\n",
    "                After evaluating the options, please provide only the index of the selected reasoning path. If the final entity from the current reasoning steps directly answers the query, respond with option 0: EOS, End of Selection.\n",
    "            \"\"\"\n",
    "\n",
    "        try:\n",
    "            response = query_api(prompt)['response'].strip()\n",
    "        except Exception as e:\n",
    "            print(e)\n",
    "            print(f\"Failed to get response for query: {question}\")\n",
    "            break\n",
    "\n",
    "        if \"EOS\" in response:\n",
    "            # print(f\"END of SELECTION: {process_str(reasoning_path)}\")\n",
    "            flag = False\n",
    "        else:\n",
    "            index = int(re.findall(r\"[-+]?\\d*\\.\\d+|\\d+\", response)[0]) - 1\n",
    "            # print(f\"RESPONSE: {response}; INDEX: {index}\")\n",
    "\n",
    "            path = path_candidates[index]\n",
    "            neighbor = neighbors[index]\n",
    "            reasoning_path.append(f\"{starting_entity} -> {path} -> {neighbor}\")\n",
    "            starting_entity = neighbor\n",
    "\n",
    "    with open(os.path.join(output_dir, f\"{id}.json\"), \"w\") as f:\n",
    "        json.dump(\n",
    "            {\"question\": question, \"reasoning_path\": process_str(reasoning_path)}, f\n",
    "        )"
   ]
  },
  {
   "cell_type": "code",
   "execution_count": null,
   "metadata": {},
   "outputs": [],
   "source": []
  }
 ],
 "metadata": {
  "kernelspec": {
   "display_name": "aml",
   "language": "python",
   "name": "python3"
  },
  "language_info": {
   "codemirror_mode": {
    "name": "ipython",
    "version": 3
   },
   "file_extension": ".py",
   "mimetype": "text/x-python",
   "name": "python",
   "nbconvert_exporter": "python",
   "pygments_lexer": "ipython3",
   "version": "3.10.11"
  }
 },
 "nbformat": 4,
 "nbformat_minor": 2
}
