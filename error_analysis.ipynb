{
 "cells": [
  {
   "cell_type": "code",
   "execution_count": null,
   "metadata": {},
   "outputs": [],
   "source": [
    "# Error Analysis for relation path generation\n",
    "dataset = \"cwq\" # or webqsp\n",
    "file_name = f\"reasoning-on-graphs/results/gen_rule_path/RoG-{dataset}/RoG/test/predictions_3_False.jsonl\"\n",
    "\n",
    "with open(file_name, 'r') as file:\n",
    "    "
   ]
  }
 ],
 "metadata": {
  "language_info": {
   "name": "python"
  }
 },
 "nbformat": 4,
 "nbformat_minor": 2
}
